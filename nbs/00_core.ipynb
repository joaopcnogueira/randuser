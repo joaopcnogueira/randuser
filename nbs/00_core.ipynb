{
 "cells": [
  {
   "cell_type": "markdown",
   "metadata": {},
   "source": [
    "# core\n",
    "\n",
    "> Fill in a module description here"
   ]
  },
  {
   "cell_type": "code",
   "execution_count": null,
   "metadata": {},
   "outputs": [],
   "source": [
    "#| default_exp core"
   ]
  },
  {
   "cell_type": "code",
   "execution_count": null,
   "metadata": {},
   "outputs": [],
   "source": [
    "#| hide\n",
    "from nbdev.showdoc import *"
   ]
  },
  {
   "cell_type": "code",
   "execution_count": null,
   "metadata": {},
   "outputs": [],
   "source": [
    "#| export\n",
    "import requests\n",
    "\n",
    "def random_user(gender:str,       # gênero do usuário que será aleatoriamente criado\n",
    "                nationality:str,  # nacionalidade do usuário que será aleatoriamente criado\n",
    "):\n",
    "    \"Função que retorna um usuário aleatório da API randomuser.me\"\n",
    "    \n",
    "    params_dict = {'gender': gender, 'nationality': nationality}\n",
    "    response = requests.get(\"https://randomuser.me/api\", params=params_dict)\n",
    "    return response.json()['results'][0]"
   ]
  },
  {
   "cell_type": "code",
   "execution_count": null,
   "metadata": {},
   "outputs": [
    {
     "data": {
      "text/plain": [
       "{'gender': 'male',\n",
       " 'name': {'title': 'Mr', 'first': 'Gregório', 'last': 'Porto'},\n",
       " 'location': {'street': {'number': 9151, 'name': 'Rua Pernambuco '},\n",
       "  'city': 'Betim',\n",
       "  'state': 'Sergipe',\n",
       "  'country': 'Brazil',\n",
       "  'postcode': 95740,\n",
       "  'coordinates': {'latitude': '-73.5512', 'longitude': '-20.7445'},\n",
       "  'timezone': {'offset': '+4:30', 'description': 'Kabul'}},\n",
       " 'email': 'gregorio.porto@example.com',\n",
       " 'login': {'uuid': 'cae72eff-90a1-466c-97ae-5407cd3c70d7',\n",
       "  'username': 'lazymouse896',\n",
       "  'password': 'amanda1',\n",
       "  'salt': '9LdPgAzV',\n",
       "  'md5': '8a0770e6ccb2c32dcb7f6b571280ba43',\n",
       "  'sha1': 'd8f88725f9566f0ec181f9cbc11a7bfc6e2e89dc',\n",
       "  'sha256': '85e88f4d9efc7afe58344cd1f58e2a444cc20b90885be96c4b676b814ffa5545'},\n",
       " 'dob': {'date': '1965-10-14T16:07:56.445Z', 'age': 57},\n",
       " 'registered': {'date': '2007-04-06T10:34:43.772Z', 'age': 15},\n",
       " 'phone': '(47) 8274-0844',\n",
       " 'cell': '(34) 4255-1152',\n",
       " 'id': {'name': 'CPF', 'value': '731.339.011-81'},\n",
       " 'picture': {'large': 'https://randomuser.me/api/portraits/men/0.jpg',\n",
       "  'medium': 'https://randomuser.me/api/portraits/med/men/0.jpg',\n",
       "  'thumbnail': 'https://randomuser.me/api/portraits/thumb/men/0.jpg'},\n",
       " 'nat': 'BR'}"
      ]
     },
     "execution_count": null,
     "metadata": {},
     "output_type": "execute_result"
    }
   ],
   "source": [
    "random_user(gender=\"male\", nationality=\"br\")"
   ]
  },
  {
   "cell_type": "code",
   "execution_count": null,
   "metadata": {},
   "outputs": [],
   "source": [
    "#| hide\n",
    "import nbdev; nbdev.nbdev_export()"
   ]
  }
 ],
 "metadata": {
  "kernelspec": {
   "display_name": "python3",
   "language": "python",
   "name": "python3"
  }
 },
 "nbformat": 4,
 "nbformat_minor": 4
}
