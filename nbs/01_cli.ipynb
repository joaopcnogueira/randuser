{
 "cells": [
  {
   "attachments": {},
   "cell_type": "markdown",
   "metadata": {},
   "source": [
    "# cli\n",
    "\n",
    "> Command Line Interface"
   ]
  },
  {
   "cell_type": "code",
   "execution_count": null,
   "metadata": {},
   "outputs": [],
   "source": [
    "#| default_exp cli"
   ]
  },
  {
   "cell_type": "code",
   "execution_count": null,
   "metadata": {},
   "outputs": [],
   "source": [
    "#|export\n",
    "import os\n",
    "from randuser.core import random_user\n",
    "from fastcore.script import call_parse"
   ]
  },
  {
   "cell_type": "code",
   "execution_count": null,
   "metadata": {},
   "outputs": [],
   "source": [
    "#|export\n",
    "@call_parse\n",
    "def randuser(gender: str,      # gênero do usuário que será aleatoriamente criado. Ex: 'male' or 'female'\n",
    "             nationality: str, # nacionalidade do usuário que será aleatoriamente criado. Ex: 'br' or 'uk'\n",
    "):\n",
    "    return random_user(gender=gender, nationality=nationality)"
   ]
  },
  {
   "cell_type": "code",
   "execution_count": null,
   "metadata": {},
   "outputs": [
    {
     "name": "stdout",
     "output_type": "stream",
     "text": [
      "usage: randuser [-h] gender nationality\n",
      "\n",
      "positional arguments:\n",
      "  gender       gênero do usuário que será aleatoriamente criado. Ex: 'male' or 'female'\n",
      "  nationality  nacionalidade do usuário que será aleatoriamente criado. Ex: 'br' or 'uk'\n",
      "\n",
      "optional arguments:\n",
      "  -h, --help   show this help message and exit\n"
     ]
    },
    {
     "data": {
      "text/plain": [
       "0"
      ]
     },
     "execution_count": null,
     "metadata": {},
     "output_type": "execute_result"
    }
   ],
   "source": [
    "#| eval: false\n",
    "os.system(\"randuser --help\")"
   ]
  },
  {
   "cell_type": "code",
   "execution_count": null,
   "metadata": {},
   "outputs": [
    {
     "name": "stderr",
     "output_type": "stream",
     "text": [
      "{'gender': 'female', 'name': {'title': 'Mrs', 'first': 'Cinira', 'last': 'de Souza'}, 'location': {'street': {'number': 2661, 'name': 'Rua Espirito Santo '}, 'city': 'Olinda', 'state': 'Pernambuco', 'country': 'Brazil', 'postcode': 43272, 'coordinates': {'latitude': '-17.4160', 'longitude': '-124.3829'}, 'timezone': {'offset': '+2:00', 'description': 'Kaliningrad, South Africa'}}, 'email': 'cinira.desouza@example.com', 'login': {'uuid': '58845995-e13e-4441-a5b1-58b8eb7d27ad', 'username': 'sadbird421', 'password': 'eagle1', 'salt': '6fm3srfQ', 'md5': 'b23fdecc71b4e467dae9dcd6bf9afe32', 'sha1': '9c1a95b80125a38b67fc91e064aed66cb942c404', 'sha256': '11a96aeba458eeb6210219c745e2b70b72cd722bf51f9cab73a11e88be54f94c'}, 'dob': {'date': '1973-01-31T11:54:13.789Z', 'age': 50}, 'registered': {'date': '2016-07-28T10:34:00.281Z', 'age': 6}, 'phone': '(97) 4814-6899', 'cell': '(52) 2540-6766', 'id': {'name': 'CPF', 'value': '964.314.691-96'}, 'picture': {'large': 'https://randomuser.me/api/portraits/women/49.jpg', 'medium': 'https://randomuser.me/api/portraits/med/women/49.jpg', 'thumbnail': 'https://randomuser.me/api/portraits/thumb/women/49.jpg'}, 'nat': 'BR'}\n"
     ]
    },
    {
     "data": {
      "text/plain": [
       "256"
      ]
     },
     "execution_count": null,
     "metadata": {},
     "output_type": "execute_result"
    }
   ],
   "source": [
    "#| eval: false\n",
    "os.system(\"randuser female br\")"
   ]
  },
  {
   "cell_type": "code",
   "execution_count": null,
   "metadata": {},
   "outputs": [],
   "source": []
  }
 ],
 "metadata": {
  "kernelspec": {
   "display_name": "python3",
   "language": "python",
   "name": "python3"
  }
 },
 "nbformat": 4,
 "nbformat_minor": 2
}
