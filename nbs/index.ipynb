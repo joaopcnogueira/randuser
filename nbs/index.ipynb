{
 "cells": [
  {
   "cell_type": "markdown",
   "metadata": {},
   "source": [
    "# randuser\n",
    "\n",
    "> Python package to query the random user api"
   ]
  },
  {
   "cell_type": "markdown",
   "metadata": {},
   "source": [
    "This file will become your README and also the index of your documentation."
   ]
  },
  {
   "cell_type": "markdown",
   "metadata": {},
   "source": [
    "## Install"
   ]
  },
  {
   "cell_type": "markdown",
   "metadata": {},
   "source": [
    "```sh\n",
    "pip install randuser\n",
    "```"
   ]
  },
  {
   "cell_type": "markdown",
   "metadata": {},
   "source": [
    "## How to use"
   ]
  },
  {
   "cell_type": "code",
   "execution_count": null,
   "metadata": {},
   "outputs": [],
   "source": [
    "from randuser.core import random_user"
   ]
  },
  {
   "cell_type": "code",
   "execution_count": null,
   "metadata": {},
   "outputs": [],
   "source": [
    "user1 = random_user(gender=\"female\", nationality='BR')\n",
    "user2 = random_user(gender=\"male\", nationality=\"US\")"
   ]
  },
  {
   "cell_type": "code",
   "execution_count": null,
   "metadata": {},
   "outputs": [
    {
     "name": "stdout",
     "output_type": "stream",
     "text": [
      "{'gender': 'female', 'name': {'title': 'Mrs', 'first': 'Valdira', 'last': 'da Mata'}, 'location': {'street': {'number': 3991, 'name': 'Rua Santa Luzia '}, 'city': 'Marituba', 'state': 'Santa Catarina', 'country': 'Brazil', 'postcode': 49827, 'coordinates': {'latitude': '-13.6986', 'longitude': '152.4410'}, 'timezone': {'offset': '+9:30', 'description': 'Adelaide, Darwin'}}, 'email': 'valdira.damata@example.com', 'login': {'uuid': '46e6a8d7-f293-4d9b-a1b2-c9b951b2a623', 'username': 'saddog802', 'password': 'anton', 'salt': '9iLp2MQx', 'md5': 'b80802b9aeb29a8dba526da0580942bf', 'sha1': '4d0325ca1e7c8b0125d23c24ecc10dfd53c90212', 'sha256': '3159f7fdb98c7450feff232817aabfe46f270cc110bb4b660f21e5882f2718ff'}, 'dob': {'date': '1979-01-19T15:31:46.196Z', 'age': 44}, 'registered': {'date': '2016-06-13T19:43:01.190Z', 'age': 6}, 'phone': '(30) 7164-1118', 'cell': '(11) 8229-1575', 'id': {'name': 'CPF', 'value': '803.358.707-34'}, 'picture': {'large': 'https://randomuser.me/api/portraits/women/56.jpg', 'medium': 'https://randomuser.me/api/portraits/med/women/56.jpg', 'thumbnail': 'https://randomuser.me/api/portraits/thumb/women/56.jpg'}, 'nat': 'BR'}\n"
     ]
    }
   ],
   "source": [
    "print(user1)"
   ]
  },
  {
   "cell_type": "code",
   "execution_count": null,
   "metadata": {},
   "outputs": [
    {
     "name": "stdout",
     "output_type": "stream",
     "text": [
      "{'gender': 'male', 'name': {'title': 'Mr', 'first': 'Ronald', 'last': 'Patterson'}, 'location': {'street': {'number': 7969, 'name': 'Mockingbird Hill'}, 'city': 'Dayton', 'state': 'Wisconsin', 'country': 'United States', 'postcode': 74792, 'coordinates': {'latitude': '-21.3635', 'longitude': '119.4283'}, 'timezone': {'offset': '-7:00', 'description': 'Mountain Time (US & Canada)'}}, 'email': 'ronald.patterson@example.com', 'login': {'uuid': 'a2c83fbb-932f-4747-8b01-137ffc688e46', 'username': 'sadbear195', 'password': 'conway', 'salt': 'RKpk8CqC', 'md5': 'd250bc7e85838fa682cb902958fcb535', 'sha1': '02bf262684535d584480af4fd26e78e431082361', 'sha256': '934b7d84c3a36f3b91a4a42c1530e9c3cd6aecfd6f6008be7290e7bb7a500a50'}, 'dob': {'date': '1948-10-03T02:03:50.925Z', 'age': 74}, 'registered': {'date': '2006-04-08T22:56:40.683Z', 'age': 16}, 'phone': '(997) 555-9241', 'cell': '(583) 959-4632', 'id': {'name': 'SSN', 'value': '527-80-1714'}, 'picture': {'large': 'https://randomuser.me/api/portraits/men/48.jpg', 'medium': 'https://randomuser.me/api/portraits/med/men/48.jpg', 'thumbnail': 'https://randomuser.me/api/portraits/thumb/men/48.jpg'}, 'nat': 'US'}\n"
     ]
    }
   ],
   "source": [
    "print(user2)"
   ]
  }
 ],
 "metadata": {
  "kernelspec": {
   "display_name": "python3",
   "language": "python",
   "name": "python3"
  }
 },
 "nbformat": 4,
 "nbformat_minor": 4
}
